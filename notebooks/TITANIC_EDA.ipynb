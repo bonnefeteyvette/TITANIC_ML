{
 "cells": [
  {
   "cell_type": "markdown",
   "id": "337d7ac1-584b-40f3-b5d9-d247898f8553",
   "metadata": {},
   "source": [
    "## Titanic Dataset - Exploratory and Descriptive Analysis\n",
    "\n",
    "In this notebook, we conduct an exploratory and descriptive analysis of the **Titanic Dataset**, one of the most widely used datasets for practicing data analysis and machine learning. The dataset contains demographic and travel details of passengers aboard the RMS Titanic, along with information on whether they survived the disaster.\n",
    "\n",
    "This stage of analysis is crucial for identifying missing values, uncovering patterns, and building intuition about the dataset’s structure before applying any predictive models. We explore the distribution of key numerical and categorical variables, examine survival rates across demographic groups and passenger classes, and apply visualizations to highlight important trends.\n",
    "\n",
    "Special attention is given to survival disparities based on **gender, age, socio-economic class, and family size**, providing insights into historical realities and laying the foundation for downstream predictive modeling.\n"
   ]
  },
  {
   "cell_type": "markdown",
   "id": "78a1040b-9bf5-435c-b184-ca6adf570b8e",
   "metadata": {},
   "source": [
    "We begin our analysis by importing the core Python libraries required for **data handling**, **numerical computation**, **visualization**, and **directory management**:\n",
    "\n",
    "- `pandas`: Enables efficient manipulation, filtering, and aggregation of structured tabular data, forming the backbone of our analysis pipeline.\n",
    "\n",
    "- `numpy`: Provides support for fast numerical operations, array-based computation, and statistical routines.\n",
    "\n",
    "- `os`: Facilitates interaction with the file system, allowing us to construct flexible and portable directory paths for data and output management.\n",
    "\n",
    "- `plotly.express`: A high-level graphing library that enables the creation of interactive, publication-quality visualizations, which we use extensively to uncover patterns and present insights throughout the notebook.\n"
   ]
  },
  {
   "cell_type": "code",
   "execution_count": 85,
   "id": "bddb293a-c8f5-43d7-bacd-f3171ad5cd8a",
   "metadata": {},
   "outputs": [],
   "source": [
    "# Import libraries\n",
    "\n",
    "import pandas as pd\n",
    "import numpy as np\n",
    "import os\n",
    "import plotly.express as px\n",
    "import kaleido\n",
    "import matplotlib.pyplot as plt\n",
    "import seaborn as sns"
   ]
  },
  {
   "cell_type": "markdown",
   "id": "0ec5b5f7-b318-4f09-8325-8b1c65a5cb33",
   "metadata": {},
   "source": [
    "## 1. Define and Create Directory Paths\n",
    "\n",
    "To ensure reproducibility and organized storage, we programmatically create directories if they don't already exist for:\n",
    "\n",
    "- **raw data**\n",
    "- **processed data**\n",
    "- **results**\n",
    "- **documentation**\n",
    "\n",
    "These directories will store intermediate and final outputs for reproducibility."
   ]
  },
  {
   "cell_type": "code",
   "execution_count": 86,
   "id": "3b2f5d4a-affd-406a-9e54-45edfc5a7c1d",
   "metadata": {},
   "outputs": [],
   "source": [
    "# Get working directory\n",
    "current_dir = os.getcwd()\n",
    "# Go one directory up to the root directory\n",
    "project_root_dir = os.path.dirname(current_dir)\n",
    "# define paths to the data files\n",
    "data_dir = os.path.join(project_root_dir, 'data')\n",
    "raw_dir = os.path.join(data_dir, 'raw')\n",
    "processed_dir = os.path.join(data_dir, 'processed')\n",
    "# Define paths to the results folder\n",
    "results_dir  = os.path.join(project_root_dir, 'results')\n",
    "# Define paths to the docs folder\n",
    "docs_dir = os.path.join(project_root_dir, 'docs')\n",
    "\n",
    "# create directories if they do not exist \n",
    "os.makedirs(raw_dir, exist_ok = True )\n",
    "os.makedirs(processed_dir, exist_ok = True )\n",
    "os.makedirs(results_dir, exist_ok = True)\n",
    "os.makedirs(docs_dir, exist_ok = True)"
   ]
  },
  {
   "cell_type": "markdown",
   "id": "df84f48c-7939-4b8b-a267-fef7b3e71454",
   "metadata": {},
   "source": [
    "## Loading the Cleaned Dataset\n",
    "\n",
    "We load the cleaned version of the **Titanic Dataset** into a Pandas DataFrame for further exploration. Displaying the first ten records with the `head(10)` function provides an overview of the dataset’s structure and the key variables, such as `PassengerId`, `Survived`, `Pclass`, `Sex`, `Age`, `SibSp`, `Parch`, `Fare`, and `Embarked`. This initial inspection helps confirm that the data is properly cleaned and ready for descriptive and exploratory analysis.\n"
   ]
  },
  {
   "cell_type": "code",
   "execution_count": 87,
   "id": "825c446a-45a4-462c-9115-1f0275dd6c08",
   "metadata": {},
   "outputs": [
    {
     "data": {
      "text/html": [
       "<div>\n",
       "<style scoped>\n",
       "    .dataframe tbody tr th:only-of-type {\n",
       "        vertical-align: middle;\n",
       "    }\n",
       "\n",
       "    .dataframe tbody tr th {\n",
       "        vertical-align: top;\n",
       "    }\n",
       "\n",
       "    .dataframe thead th {\n",
       "        text-align: right;\n",
       "    }\n",
       "</style>\n",
       "<table border=\"1\" class=\"dataframe\">\n",
       "  <thead>\n",
       "    <tr style=\"text-align: right;\">\n",
       "      <th></th>\n",
       "      <th>passengerid</th>\n",
       "      <th>survived</th>\n",
       "      <th>pclass</th>\n",
       "      <th>name</th>\n",
       "      <th>sex</th>\n",
       "      <th>age</th>\n",
       "      <th>sibsp</th>\n",
       "      <th>parch</th>\n",
       "      <th>ticket</th>\n",
       "      <th>fare</th>\n",
       "      <th>cabin</th>\n",
       "      <th>embarked</th>\n",
       "    </tr>\n",
       "  </thead>\n",
       "  <tbody>\n",
       "    <tr>\n",
       "      <th>0</th>\n",
       "      <td>1</td>\n",
       "      <td>0</td>\n",
       "      <td>3</td>\n",
       "      <td>Braund, Mr. Owen Harris</td>\n",
       "      <td>male</td>\n",
       "      <td>22.0</td>\n",
       "      <td>1</td>\n",
       "      <td>0</td>\n",
       "      <td>A/5 21171</td>\n",
       "      <td>7.2500</td>\n",
       "      <td>Unknown</td>\n",
       "      <td>S</td>\n",
       "    </tr>\n",
       "    <tr>\n",
       "      <th>1</th>\n",
       "      <td>2</td>\n",
       "      <td>1</td>\n",
       "      <td>1</td>\n",
       "      <td>Cumings, Mrs. John Bradley (Florence Briggs Th...</td>\n",
       "      <td>female</td>\n",
       "      <td>38.0</td>\n",
       "      <td>1</td>\n",
       "      <td>0</td>\n",
       "      <td>PC 17599</td>\n",
       "      <td>71.2833</td>\n",
       "      <td>C85</td>\n",
       "      <td>C</td>\n",
       "    </tr>\n",
       "    <tr>\n",
       "      <th>2</th>\n",
       "      <td>3</td>\n",
       "      <td>1</td>\n",
       "      <td>3</td>\n",
       "      <td>Heikkinen, Miss. Laina</td>\n",
       "      <td>female</td>\n",
       "      <td>26.0</td>\n",
       "      <td>0</td>\n",
       "      <td>0</td>\n",
       "      <td>STON/O2. 3101282</td>\n",
       "      <td>7.9250</td>\n",
       "      <td>Unknown</td>\n",
       "      <td>S</td>\n",
       "    </tr>\n",
       "    <tr>\n",
       "      <th>3</th>\n",
       "      <td>4</td>\n",
       "      <td>1</td>\n",
       "      <td>1</td>\n",
       "      <td>Futrelle, Mrs. Jacques Heath (Lily May Peel)</td>\n",
       "      <td>female</td>\n",
       "      <td>35.0</td>\n",
       "      <td>1</td>\n",
       "      <td>0</td>\n",
       "      <td>113803</td>\n",
       "      <td>53.1000</td>\n",
       "      <td>C123</td>\n",
       "      <td>S</td>\n",
       "    </tr>\n",
       "    <tr>\n",
       "      <th>4</th>\n",
       "      <td>5</td>\n",
       "      <td>0</td>\n",
       "      <td>3</td>\n",
       "      <td>Allen, Mr. William Henry</td>\n",
       "      <td>male</td>\n",
       "      <td>35.0</td>\n",
       "      <td>0</td>\n",
       "      <td>0</td>\n",
       "      <td>373450</td>\n",
       "      <td>8.0500</td>\n",
       "      <td>Unknown</td>\n",
       "      <td>S</td>\n",
       "    </tr>\n",
       "    <tr>\n",
       "      <th>5</th>\n",
       "      <td>6</td>\n",
       "      <td>0</td>\n",
       "      <td>3</td>\n",
       "      <td>Moran, Mr. James</td>\n",
       "      <td>male</td>\n",
       "      <td>28.0</td>\n",
       "      <td>0</td>\n",
       "      <td>0</td>\n",
       "      <td>330877</td>\n",
       "      <td>8.4583</td>\n",
       "      <td>Unknown</td>\n",
       "      <td>Q</td>\n",
       "    </tr>\n",
       "    <tr>\n",
       "      <th>6</th>\n",
       "      <td>7</td>\n",
       "      <td>0</td>\n",
       "      <td>1</td>\n",
       "      <td>McCarthy, Mr. Timothy J</td>\n",
       "      <td>male</td>\n",
       "      <td>54.0</td>\n",
       "      <td>0</td>\n",
       "      <td>0</td>\n",
       "      <td>17463</td>\n",
       "      <td>51.8625</td>\n",
       "      <td>E46</td>\n",
       "      <td>S</td>\n",
       "    </tr>\n",
       "    <tr>\n",
       "      <th>7</th>\n",
       "      <td>8</td>\n",
       "      <td>0</td>\n",
       "      <td>3</td>\n",
       "      <td>Palsson, Master. Gosta Leonard</td>\n",
       "      <td>male</td>\n",
       "      <td>2.0</td>\n",
       "      <td>3</td>\n",
       "      <td>1</td>\n",
       "      <td>349909</td>\n",
       "      <td>21.0750</td>\n",
       "      <td>Unknown</td>\n",
       "      <td>S</td>\n",
       "    </tr>\n",
       "    <tr>\n",
       "      <th>8</th>\n",
       "      <td>9</td>\n",
       "      <td>1</td>\n",
       "      <td>3</td>\n",
       "      <td>Johnson, Mrs. Oscar W (Elisabeth Vilhelmina Berg)</td>\n",
       "      <td>female</td>\n",
       "      <td>27.0</td>\n",
       "      <td>0</td>\n",
       "      <td>2</td>\n",
       "      <td>347742</td>\n",
       "      <td>11.1333</td>\n",
       "      <td>Unknown</td>\n",
       "      <td>S</td>\n",
       "    </tr>\n",
       "    <tr>\n",
       "      <th>9</th>\n",
       "      <td>10</td>\n",
       "      <td>1</td>\n",
       "      <td>2</td>\n",
       "      <td>Nasser, Mrs. Nicholas (Adele Achem)</td>\n",
       "      <td>female</td>\n",
       "      <td>14.0</td>\n",
       "      <td>1</td>\n",
       "      <td>0</td>\n",
       "      <td>237736</td>\n",
       "      <td>30.0708</td>\n",
       "      <td>Unknown</td>\n",
       "      <td>C</td>\n",
       "    </tr>\n",
       "  </tbody>\n",
       "</table>\n",
       "</div>"
      ],
      "text/plain": [
       "   passengerid  survived  pclass  \\\n",
       "0            1         0       3   \n",
       "1            2         1       1   \n",
       "2            3         1       3   \n",
       "3            4         1       1   \n",
       "4            5         0       3   \n",
       "5            6         0       3   \n",
       "6            7         0       1   \n",
       "7            8         0       3   \n",
       "8            9         1       3   \n",
       "9           10         1       2   \n",
       "\n",
       "                                                name     sex   age  sibsp  \\\n",
       "0                            Braund, Mr. Owen Harris    male  22.0      1   \n",
       "1  Cumings, Mrs. John Bradley (Florence Briggs Th...  female  38.0      1   \n",
       "2                             Heikkinen, Miss. Laina  female  26.0      0   \n",
       "3       Futrelle, Mrs. Jacques Heath (Lily May Peel)  female  35.0      1   \n",
       "4                           Allen, Mr. William Henry    male  35.0      0   \n",
       "5                                   Moran, Mr. James    male  28.0      0   \n",
       "6                            McCarthy, Mr. Timothy J    male  54.0      0   \n",
       "7                     Palsson, Master. Gosta Leonard    male   2.0      3   \n",
       "8  Johnson, Mrs. Oscar W (Elisabeth Vilhelmina Berg)  female  27.0      0   \n",
       "9                Nasser, Mrs. Nicholas (Adele Achem)  female  14.0      1   \n",
       "\n",
       "   parch            ticket     fare    cabin embarked  \n",
       "0      0         A/5 21171   7.2500  Unknown        S  \n",
       "1      0          PC 17599  71.2833      C85        C  \n",
       "2      0  STON/O2. 3101282   7.9250  Unknown        S  \n",
       "3      0            113803  53.1000     C123        S  \n",
       "4      0            373450   8.0500  Unknown        S  \n",
       "5      0            330877   8.4583  Unknown        Q  \n",
       "6      0             17463  51.8625      E46        S  \n",
       "7      1            349909  21.0750  Unknown        S  \n",
       "8      2            347742  11.1333  Unknown        S  \n",
       "9      0            237736  30.0708  Unknown        C  "
      ]
     },
     "execution_count": 87,
     "metadata": {},
     "output_type": "execute_result"
    }
   ],
   "source": [
    "titanic_df = pd.read_csv(r\"C:\\\\Users\\\\Tasha\\\\Desktop\\\\TITANIC_ML\\\\data\\\\processed\\\\titanic_cleaned.csv\")\n",
    "titanic_df.head(10)"
   ]
  },
  {
   "cell_type": "markdown",
   "id": "10062b1e-2ea3-4b07-9388-c7a61b3f3cea",
   "metadata": {},
   "source": [
    "## Dataset Dimensions and Data Types\n",
    "\n",
    "Here, we examine the structure of the **Titanic Dataset**:\n",
    "\n",
    "* The dataset contains *891* entries and *12* main variables.\n",
    "* It includes both **numerical** variables (e.g., `Age`, `SibSp`, `Parch`, `Fare`) and **categorical** variables (e.g., `Sex`, `Embarked`, `Pclass`).\n",
    "\n",
    "Reviewing the dataset dimensions, variable types, and null values is a key step before analysis, ensuring that the data is well-prepared for exploratory insights and potential modeling.\n",
    "\n"
   ]
  },
  {
   "cell_type": "code",
   "execution_count": 88,
   "id": "b6e28684-3794-4d5b-b9fb-eb8236d406f0",
   "metadata": {},
   "outputs": [
    {
     "data": {
      "text/plain": [
       "(891, 12)"
      ]
     },
     "execution_count": 88,
     "metadata": {},
     "output_type": "execute_result"
    }
   ],
   "source": [
    "titanic_df.shape"
   ]
  },
  {
   "cell_type": "code",
   "execution_count": 89,
   "id": "b8adcd0a-0e35-49d0-aa44-07bbe9979ca1",
   "metadata": {},
   "outputs": [
    {
     "name": "stdout",
     "output_type": "stream",
     "text": [
      "<class 'pandas.core.frame.DataFrame'>\n",
      "RangeIndex: 891 entries, 0 to 890\n",
      "Data columns (total 12 columns):\n",
      " #   Column       Non-Null Count  Dtype  \n",
      "---  ------       --------------  -----  \n",
      " 0   passengerid  891 non-null    int64  \n",
      " 1   survived     891 non-null    int64  \n",
      " 2   pclass       891 non-null    int64  \n",
      " 3   name         891 non-null    object \n",
      " 4   sex          891 non-null    object \n",
      " 5   age          891 non-null    float64\n",
      " 6   sibsp        891 non-null    int64  \n",
      " 7   parch        891 non-null    int64  \n",
      " 8   ticket       891 non-null    object \n",
      " 9   fare         891 non-null    float64\n",
      " 10  cabin        891 non-null    object \n",
      " 11  embarked     891 non-null    object \n",
      "dtypes: float64(2), int64(5), object(5)\n",
      "memory usage: 83.7+ KB\n"
     ]
    }
   ],
   "source": [
    "titanic_df.info()"
   ]
  },
  {
   "cell_type": "markdown",
   "id": "e59736b9-d6f9-4471-b94e-0db4f9946a88",
   "metadata": {},
   "source": [
    "## Summary Statistics: Numerical Variables\n",
    "\n",
    "This summary provides a snapshot of key distribution characteristics within the **Titanic Dataset**. We observe the following:\n",
    "\n",
    "* **Age** ranges from 0.42 to 80 years, with a mean around 29.7 years. The distribution is slightly right-skewed, with most passengers in their 20s and 30s, and fewer elderly individuals. This highlights that the majority of Titanic passengers were relatively young, which may have influenced survival outcomes, especially given differing mobility and resilience across age groups.\n",
    "\n",
    "* **Fare** ranges from 0 to 512.33, with a strong positive skew. While the median fare is about 14.45, a small subset of passengers paid disproportionately higher ticket prices, reflecting socioeconomic disparities. These higher fares are strongly associated with first-class passengers, often linked to higher survival rates due to better cabin access and lifeboat proximity.\n",
    "\n",
    "* **SibSp** (number of siblings/spouses aboard) and **Parch** (number of parents/children aboard) are both heavily skewed toward 0. Most passengers traveled alone, though a minority traveled with families, which may have impacted both survival chances and decision-making during the disaster.\n",
    "\n",
    "* **Passenger Class (Pclass)**, though technically categorical, carries ordinal numerical meaning (1st, 2nd, 3rd). The distribution shows a majority in 3rd class, fewer in 2nd, and the smallest group in 1st class. This imbalance reflects the socioeconomic makeup of Titanic’s passengers and is a critical factor in survival analysis.\n",
    "\n",
    "Together, these numerical summaries provide insights into the demographic and economic diversity aboard the Titanic, and set the stage for exploring how these variables correlate with survival outcomes.\n"
   ]
  },
  {
   "cell_type": "code",
   "execution_count": 90,
   "id": "20146bb1-a79c-478e-a15d-657e7da5f347",
   "metadata": {},
   "outputs": [
    {
     "data": {
      "text/html": [
       "<div>\n",
       "<style scoped>\n",
       "    .dataframe tbody tr th:only-of-type {\n",
       "        vertical-align: middle;\n",
       "    }\n",
       "\n",
       "    .dataframe tbody tr th {\n",
       "        vertical-align: top;\n",
       "    }\n",
       "\n",
       "    .dataframe thead th {\n",
       "        text-align: right;\n",
       "    }\n",
       "</style>\n",
       "<table border=\"1\" class=\"dataframe\">\n",
       "  <thead>\n",
       "    <tr style=\"text-align: right;\">\n",
       "      <th></th>\n",
       "      <th>passengerid</th>\n",
       "      <th>survived</th>\n",
       "      <th>pclass</th>\n",
       "      <th>age</th>\n",
       "      <th>sibsp</th>\n",
       "      <th>parch</th>\n",
       "      <th>fare</th>\n",
       "    </tr>\n",
       "  </thead>\n",
       "  <tbody>\n",
       "    <tr>\n",
       "      <th>count</th>\n",
       "      <td>891.000000</td>\n",
       "      <td>891.000000</td>\n",
       "      <td>891.000000</td>\n",
       "      <td>891.000000</td>\n",
       "      <td>891.000000</td>\n",
       "      <td>891.000000</td>\n",
       "      <td>891.000000</td>\n",
       "    </tr>\n",
       "    <tr>\n",
       "      <th>mean</th>\n",
       "      <td>446.000000</td>\n",
       "      <td>0.383838</td>\n",
       "      <td>2.308642</td>\n",
       "      <td>29.361582</td>\n",
       "      <td>0.523008</td>\n",
       "      <td>0.381594</td>\n",
       "      <td>32.204208</td>\n",
       "    </tr>\n",
       "    <tr>\n",
       "      <th>std</th>\n",
       "      <td>257.353842</td>\n",
       "      <td>0.486592</td>\n",
       "      <td>0.836071</td>\n",
       "      <td>13.019697</td>\n",
       "      <td>1.102743</td>\n",
       "      <td>0.806057</td>\n",
       "      <td>49.693429</td>\n",
       "    </tr>\n",
       "    <tr>\n",
       "      <th>min</th>\n",
       "      <td>1.000000</td>\n",
       "      <td>0.000000</td>\n",
       "      <td>1.000000</td>\n",
       "      <td>0.420000</td>\n",
       "      <td>0.000000</td>\n",
       "      <td>0.000000</td>\n",
       "      <td>0.000000</td>\n",
       "    </tr>\n",
       "    <tr>\n",
       "      <th>25%</th>\n",
       "      <td>223.500000</td>\n",
       "      <td>0.000000</td>\n",
       "      <td>2.000000</td>\n",
       "      <td>22.000000</td>\n",
       "      <td>0.000000</td>\n",
       "      <td>0.000000</td>\n",
       "      <td>7.910400</td>\n",
       "    </tr>\n",
       "    <tr>\n",
       "      <th>50%</th>\n",
       "      <td>446.000000</td>\n",
       "      <td>0.000000</td>\n",
       "      <td>3.000000</td>\n",
       "      <td>28.000000</td>\n",
       "      <td>0.000000</td>\n",
       "      <td>0.000000</td>\n",
       "      <td>14.454200</td>\n",
       "    </tr>\n",
       "    <tr>\n",
       "      <th>75%</th>\n",
       "      <td>668.500000</td>\n",
       "      <td>1.000000</td>\n",
       "      <td>3.000000</td>\n",
       "      <td>35.000000</td>\n",
       "      <td>1.000000</td>\n",
       "      <td>0.000000</td>\n",
       "      <td>31.000000</td>\n",
       "    </tr>\n",
       "    <tr>\n",
       "      <th>max</th>\n",
       "      <td>891.000000</td>\n",
       "      <td>1.000000</td>\n",
       "      <td>3.000000</td>\n",
       "      <td>80.000000</td>\n",
       "      <td>8.000000</td>\n",
       "      <td>6.000000</td>\n",
       "      <td>512.329200</td>\n",
       "    </tr>\n",
       "  </tbody>\n",
       "</table>\n",
       "</div>"
      ],
      "text/plain": [
       "       passengerid    survived      pclass         age       sibsp  \\\n",
       "count   891.000000  891.000000  891.000000  891.000000  891.000000   \n",
       "mean    446.000000    0.383838    2.308642   29.361582    0.523008   \n",
       "std     257.353842    0.486592    0.836071   13.019697    1.102743   \n",
       "min       1.000000    0.000000    1.000000    0.420000    0.000000   \n",
       "25%     223.500000    0.000000    2.000000   22.000000    0.000000   \n",
       "50%     446.000000    0.000000    3.000000   28.000000    0.000000   \n",
       "75%     668.500000    1.000000    3.000000   35.000000    1.000000   \n",
       "max     891.000000    1.000000    3.000000   80.000000    8.000000   \n",
       "\n",
       "            parch        fare  \n",
       "count  891.000000  891.000000  \n",
       "mean     0.381594   32.204208  \n",
       "std      0.806057   49.693429  \n",
       "min      0.000000    0.000000  \n",
       "25%      0.000000    7.910400  \n",
       "50%      0.000000   14.454200  \n",
       "75%      0.000000   31.000000  \n",
       "max      6.000000  512.329200  "
      ]
     },
     "execution_count": 90,
     "metadata": {},
     "output_type": "execute_result"
    }
   ],
   "source": [
    "titanic_df.describe()"
   ]
  },
  {
   "cell_type": "markdown",
   "id": "7d126ae9-cfdf-473a-b15c-8c2a85bbf8ae",
   "metadata": {},
   "source": [
    "## Summary Statistics: Categorical Variables\n",
    "\n",
    "`Sex`\n",
    "The dataset shows a gender imbalance: **males make up about 64.8%**, while females represent **35.2%**. Despite being the minority, females had a significantly higher survival rate, highlighting how gender norms and rescue priorities influenced survival outcomes.\n",
    "\n",
    "`Pclass`\n",
    "Most passengers traveled in **3rd class (55%)**, followed by **2nd class (21%)**, and the smallest group in **1st class (24%)**. This skewed distribution reflects the socioeconomic composition of Titanic passengers. Higher-class passengers had better access to lifeboats, making `Pclass` a critical survival factor.\n",
    "\n",
    "`Embarked`\n",
    "The majority of passengers boarded at **Southampton (72%)**, followed by **Cherbourg (19%)** and **Queenstown (9%)**. These embarkation points reflect different socioeconomic and geographical backgrounds. Passengers from Cherbourg had higher survival rates, likely tied to their higher likelihood of being in first-class.\n",
    "\n",
    "`Survived`\n",
    "Overall, **38% survived** while **62% did not**. This severe imbalance underscores the tragic loss of life, and also sets up the dataset as a binary classification problem for machine learning.\n",
    "\n",
    "`SibSp` and `Parch` (Family Connections)\n",
    "Most passengers traveled alone (single `SibSp` = 0, `Parch` = 0). However, family presence played a role: those traveling with 1–2 family members had better survival odds compared to those completely alone or with very large families.\n",
    "\n",
    "`Cabin`\n",
    "Cabin entries are heavily missing (nearly 77%). Where available, cabin codes reveal deck information, often tied to passenger class and survival chances. For example, many first-class passengers had assigned cabins, often closer to lifeboats.\n",
    "\n",
    "Together, these categorical summaries reveal strong patterns in **class, gender, and embarkation port**, providing crucial context for deeper analysis and predictive modeling.\n"
   ]
  },
  {
   "cell_type": "code",
   "execution_count": 91,
   "id": "03dab002-6262-489f-b8b9-5ab3db094062",
   "metadata": {},
   "outputs": [
    {
     "data": {
      "text/html": [
       "<div>\n",
       "<style scoped>\n",
       "    .dataframe tbody tr th:only-of-type {\n",
       "        vertical-align: middle;\n",
       "    }\n",
       "\n",
       "    .dataframe tbody tr th {\n",
       "        vertical-align: top;\n",
       "    }\n",
       "\n",
       "    .dataframe thead th {\n",
       "        text-align: right;\n",
       "    }\n",
       "</style>\n",
       "<table border=\"1\" class=\"dataframe\">\n",
       "  <thead>\n",
       "    <tr style=\"text-align: right;\">\n",
       "      <th></th>\n",
       "      <th>name</th>\n",
       "      <th>sex</th>\n",
       "      <th>ticket</th>\n",
       "      <th>cabin</th>\n",
       "      <th>embarked</th>\n",
       "    </tr>\n",
       "  </thead>\n",
       "  <tbody>\n",
       "    <tr>\n",
       "      <th>count</th>\n",
       "      <td>891</td>\n",
       "      <td>891</td>\n",
       "      <td>891</td>\n",
       "      <td>891</td>\n",
       "      <td>891</td>\n",
       "    </tr>\n",
       "    <tr>\n",
       "      <th>unique</th>\n",
       "      <td>891</td>\n",
       "      <td>2</td>\n",
       "      <td>681</td>\n",
       "      <td>148</td>\n",
       "      <td>3</td>\n",
       "    </tr>\n",
       "    <tr>\n",
       "      <th>top</th>\n",
       "      <td>Braund, Mr. Owen Harris</td>\n",
       "      <td>male</td>\n",
       "      <td>347082</td>\n",
       "      <td>Unknown</td>\n",
       "      <td>S</td>\n",
       "    </tr>\n",
       "    <tr>\n",
       "      <th>freq</th>\n",
       "      <td>1</td>\n",
       "      <td>577</td>\n",
       "      <td>7</td>\n",
       "      <td>687</td>\n",
       "      <td>646</td>\n",
       "    </tr>\n",
       "  </tbody>\n",
       "</table>\n",
       "</div>"
      ],
      "text/plain": [
       "                           name   sex  ticket    cabin embarked\n",
       "count                       891   891     891      891      891\n",
       "unique                      891     2     681      148        3\n",
       "top     Braund, Mr. Owen Harris  male  347082  Unknown        S\n",
       "freq                          1   577       7      687      646"
      ]
     },
     "execution_count": 91,
     "metadata": {},
     "output_type": "execute_result"
    }
   ],
   "source": [
    "titanic_df.describe(include='object')"
   ]
  },
  {
   "cell_type": "markdown",
   "id": "5d074abf-f630-4852-bd88-328c11379674",
   "metadata": {},
   "source": [
    " # Group-based insights"
   ]
  },
  {
   "cell_type": "markdown",
   "id": "41b4f5fe-95c7-4a14-883f-dc8b1f751e08",
   "metadata": {},
   "source": [
    "## 1.Overall Gender Distribution"
   ]
  },
  {
   "cell_type": "code",
   "execution_count": 92,
   "id": "e8b1e947-253d-47cf-9d4f-91060d113e53",
   "metadata": {},
   "outputs": [
    {
     "data": {
      "text/html": [
       "<div>\n",
       "<style scoped>\n",
       "    .dataframe tbody tr th:only-of-type {\n",
       "        vertical-align: middle;\n",
       "    }\n",
       "\n",
       "    .dataframe tbody tr th {\n",
       "        vertical-align: top;\n",
       "    }\n",
       "\n",
       "    .dataframe thead th {\n",
       "        text-align: right;\n",
       "    }\n",
       "</style>\n",
       "<table border=\"1\" class=\"dataframe\">\n",
       "  <thead>\n",
       "    <tr style=\"text-align: right;\">\n",
       "      <th></th>\n",
       "      <th>sex</th>\n",
       "      <th>total</th>\n",
       "    </tr>\n",
       "  </thead>\n",
       "  <tbody>\n",
       "    <tr>\n",
       "      <th>0</th>\n",
       "      <td>female</td>\n",
       "      <td>314</td>\n",
       "    </tr>\n",
       "    <tr>\n",
       "      <th>1</th>\n",
       "      <td>male</td>\n",
       "      <td>577</td>\n",
       "    </tr>\n",
       "  </tbody>\n",
       "</table>\n",
       "</div>"
      ],
      "text/plain": [
       "      sex  total\n",
       "0  female    314\n",
       "1    male    577"
      ]
     },
     "execution_count": 92,
     "metadata": {},
     "output_type": "execute_result"
    }
   ],
   "source": [
    "gender_df = titanic_df.groupby('sex').size().reset_index(name='total')\n",
    "gender_df "
   ]
  },
  {
   "cell_type": "code",
   "execution_count": 93,
   "id": "5c6cdc59-3391-4957-a4df-1fce05cb3eb5",
   "metadata": {},
   "outputs": [
    {
     "data": {
      "application/vnd.plotly.v1+json": {
       "config": {
        "plotlyServerURL": "https://plot.ly"
       },
       "data": [
        {
         "domain": {
          "x": [
           0,
           1
          ],
          "y": [
           0,
           1
          ]
         },
         "hovertemplate": "sex=%{label}<br>total=%{value}<extra></extra>",
         "labels": [
          "female",
          "male"
         ],
         "legendgroup": "",
         "name": "",
         "showlegend": true,
         "type": "pie",
         "values": {
          "_inputArray": {
           "0": 314,
           "1": 577,
           "bdata": "OgFBAg==",
           "dtype": "i2",
           "shape": "2"
          },
          "bdata": "OgFBAg==",
          "dtype": "i2"
         }
        }
       ],
       "layout": {
        "autosize": true,
        "legend": {
         "tracegroupgap": 0
        },
        "paper_bgcolor": "rgba(0, 0, 0, 0)",
        "piecolorway": [
         "darkcyan",
         "skyblue",
         "#82EEFD"
        ],
        "plot_bgcolor": "rgba(0, 0, 0, 0)",
        "template": {
         "data": {
          "pie": [
           {
            "automargin": true,
            "type": "pie"
           }
          ],
          "scatter": [
           {
            "line": {
             "width": 3
            },
            "marker": {
             "size": 9
            },
            "type": "scatter"
           }
          ],
          "scatter3d": [
           {
            "line": {
             "width": 3
            },
            "marker": {
             "size": 9
            },
            "type": "scatter3d"
           }
          ],
          "scattergeo": [
           {
            "line": {
             "width": 3
            },
            "marker": {
             "size": 9
            },
            "type": "scattergeo"
           }
          ],
          "scattergl": [
           {
            "line": {
             "width": 3
            },
            "marker": {
             "size": 9
            },
            "type": "scattergl"
           }
          ],
          "scatterpolar": [
           {
            "line": {
             "width": 3
            },
            "marker": {
             "size": 9
            },
            "type": "scatterpolar"
           }
          ],
          "scatterpolargl": [
           {
            "line": {
             "width": 3
            },
            "marker": {
             "size": 9
            },
            "type": "scatterpolargl"
           }
          ],
          "scatterternary": [
           {
            "line": {
             "width": 3
            },
            "marker": {
             "size": 9
            },
            "type": "scatterternary"
           }
          ],
          "table": [
           {
            "cells": {
             "height": 30
            },
            "header": {
             "height": 36
            },
            "type": "table"
           }
          ]
         },
         "layout": {
          "font": {
           "size": 18
          },
          "xaxis": {
           "title": {
            "standoff": 15
           }
          },
          "yaxis": {
           "title": {
            "standoff": 15
           }
          }
         }
        },
        "title": {
         "text": "Overall Gender Distribution"
        }
       }
      },
      "image/png": "[encoded data removed]"
     },
     "metadata": {},
     "output_type": "display_data"
    }
   ],
   "source": [
    "fig = px.pie(gender_df, names='sex', values='total', \n",
    "             title='Overall Gender Distribution',\n",
    "             color_discrete_sequence=['darkcyan','skyblue','#82EEFD'])\n",
    "fig.update_layout(template=\"presentation\", paper_bgcolor=\"rgba(0,0,0,0)\", plot_bgcolor=\"rgba(0,0,0,0)\")\n",
    "fig.show()\n",
    "fig.write_image(os.path.join(results_dir,'distribution_gender_pie_chart.jpg'))\n",
    "fig.write_image(os.path.join(results_dir,'distribution_gender_pie_chart.png'))\n",
    "fig.write_html(os.path.join(results_dir,'distribution_gender_pie_chart.html'))\n"
   ]
  },
  {
   "cell_type": "markdown",
   "id": "9c474d5e-bb4a-41ff-9e3d-278c51fd993f",
   "metadata": {},
   "source": [
    "# 2. Overall Class Distribution"
   ]
  },
  {
   "cell_type": "code",
   "execution_count": 94,
   "id": "fd655e58-3a60-4ddc-95d3-62d685eb7ae9",
   "metadata": {},
   "outputs": [
    {
     "data": {
      "text/html": [
       "<div>\n",
       "<style scoped>\n",
       "    .dataframe tbody tr th:only-of-type {\n",
       "        vertical-align: middle;\n",
       "    }\n",
       "\n",
       "    .dataframe tbody tr th {\n",
       "        vertical-align: top;\n",
       "    }\n",
       "\n",
       "    .dataframe thead th {\n",
       "        text-align: right;\n",
       "    }\n",
       "</style>\n",
       "<table border=\"1\" class=\"dataframe\">\n",
       "  <thead>\n",
       "    <tr style=\"text-align: right;\">\n",
       "      <th></th>\n",
       "      <th>pclass</th>\n",
       "      <th>total</th>\n",
       "    </tr>\n",
       "  </thead>\n",
       "  <tbody>\n",
       "    <tr>\n",
       "      <th>0</th>\n",
       "      <td>1</td>\n",
       "      <td>216</td>\n",
       "    </tr>\n",
       "    <tr>\n",
       "      <th>1</th>\n",
       "      <td>2</td>\n",
       "      <td>184</td>\n",
       "    </tr>\n",
       "    <tr>\n",
       "      <th>2</th>\n",
       "      <td>3</td>\n",
       "      <td>491</td>\n",
       "    </tr>\n",
       "  </tbody>\n",
       "</table>\n",
       "</div>"
      ],
      "text/plain": [
       "   pclass  total\n",
       "0       1    216\n",
       "1       2    184\n",
       "2       3    491"
      ]
     },
     "execution_count": 94,
     "metadata": {},
     "output_type": "execute_result"
    }
   ],
   "source": [
    "class_df = titanic_df.groupby('pclass').size().reset_index(name='total')\n",
    "class_df"
   ]
  },
  {
   "cell_type": "code",
   "execution_count": 95,
   "id": "b4e861b1-9e76-40fc-96c2-573447d9974a",
   "metadata": {},
   "outputs": [
    {
     "data": {
      "application/vnd.plotly.v1+json": {
       "config": {
        "plotlyServerURL": "https://plot.ly"
       },
       "data": [
        {
         "domain": {
          "x": [
           0,
           1
          ],
          "y": [
           0,
           1
          ]
         },
         "hovertemplate": "pclass=%{label}<br>total=%{value}<extra></extra>",
         "labels": {
          "_inputArray": {
           "0": 1,
           "1": 2,
           "2": 3,
           "bdata": "AQID",
           "dtype": "i1",
           "shape": "3"
          },
          "bdata": "AQID",
          "dtype": "i1"
         },
         "legendgroup": "",
         "name": "",
         "showlegend": true,
         "type": "pie",
         "values": {
          "_inputArray": {
           "0": 216,
           "1": 184,
           "2": 491,
           "bdata": "2AC4AOsB",
           "dtype": "i2",
           "shape": "3"
          },
          "bdata": "2AC4AOsB",
          "dtype": "i2"
         }
        }
       ],
       "layout": {
        "autosize": true,
        "legend": {
         "tracegroupgap": 0
        },
        "paper_bgcolor": "rgba(0, 0, 0, 0)",
        "piecolorway": [
         "#82EEFD",
         "skyblue",
         "darkcyan"
        ],
        "plot_bgcolor": "rgba(0, 0, 0, 0)",
        "template": {
         "data": {
          "pie": [
           {
            "automargin": true,
            "type": "pie"
           }
          ],
          "scatter": [
           {
            "line": {
             "width": 3
            },
            "marker": {
             "size": 9
            },
            "type": "scatter"
           }
          ],
          "scatter3d": [
           {
            "line": {
             "width": 3
            },
            "marker": {
             "size": 9
            },
            "type": "scatter3d"
           }
          ],
          "scattergeo": [
           {
            "line": {
             "width": 3
            },
            "marker": {
             "size": 9
            },
            "type": "scattergeo"
           }
          ],
          "scattergl": [
           {
            "line": {
             "width": 3
            },
            "marker": {
             "size": 9
            },
            "type": "scattergl"
           }
          ],
          "scatterpolar": [
           {
            "line": {
             "width": 3
            },
            "marker": {
             "size": 9
            },
            "type": "scatterpolar"
           }
          ],
          "scatterpolargl": [
           {
            "line": {
             "width": 3
            },
            "marker": {
             "size": 9
            },
            "type": "scatterpolargl"
           }
          ],
          "scatterternary": [
           {
            "line": {
             "width": 3
            },
            "marker": {
             "size": 9
            },
            "type": "scatterternary"
           }
          ],
          "table": [
           {
            "cells": {
             "height": 30
            },
            "header": {
             "height": 36
            },
            "type": "table"
           }
          ]
         },
         "layout": {
          "font": {
           "size": 18
          },
          "xaxis": {
           "title": {
            "standoff": 15
           }
          },
          "yaxis": {
           "title": {
            "standoff": 15
           }
          }
         }
        },
        "title": {
         "text": "Overall Passenger Class Distribution"
        }
       }
      },
      "image/png": "[encoded data removed]"
     },
     "metadata": {},
     "output_type": "display_data"
    }
   ],
   "source": [
    "fig = px.pie(class_df, names='pclass', values='total', \n",
    "             title='Overall Passenger Class Distribution',\n",
    "             color_discrete_sequence=['#82EEFD','skyblue','darkcyan'])\n",
    "fig.update_layout(template=\"presentation\", paper_bgcolor=\"rgba(0,0,0,0)\", plot_bgcolor=\"rgba(0,0,0,0)\")\n",
    "fig.show()\n",
    "fig.write_image(os.path.join(results_dir,'distribution_class_pie_chart.jpg'))\n",
    "fig.write_image(os.path.join(results_dir,'distribution_class_pie_chart.png'))\n",
    "fig.write_html(os.path.join(results_dir,'distribution_class_pie_chart.html'))\n"
   ]
  },
  {
   "cell_type": "markdown",
   "id": "c8c99d6e-b261-4c14-9115-5c58b114d5bb",
   "metadata": {},
   "source": [
    "# 3. Survival by Gender"
   ]
  },
  {
   "cell_type": "code",
   "execution_count": 96,
   "id": "189006d5-2082-4296-9a55-b2003fa3096f",
   "metadata": {},
   "outputs": [
    {
     "data": {
      "text/html": [
       "<div>\n",
       "<style scoped>\n",
       "    .dataframe tbody tr th:only-of-type {\n",
       "        vertical-align: middle;\n",
       "    }\n",
       "\n",
       "    .dataframe tbody tr th {\n",
       "        vertical-align: top;\n",
       "    }\n",
       "\n",
       "    .dataframe thead th {\n",
       "        text-align: right;\n",
       "    }\n",
       "</style>\n",
       "<table border=\"1\" class=\"dataframe\">\n",
       "  <thead>\n",
       "    <tr style=\"text-align: right;\">\n",
       "      <th></th>\n",
       "      <th>sex</th>\n",
       "      <th>survival_rate</th>\n",
       "    </tr>\n",
       "  </thead>\n",
       "  <tbody>\n",
       "    <tr>\n",
       "      <th>0</th>\n",
       "      <td>female</td>\n",
       "      <td>0.742038</td>\n",
       "    </tr>\n",
       "    <tr>\n",
       "      <th>1</th>\n",
       "      <td>male</td>\n",
       "      <td>0.188908</td>\n",
       "    </tr>\n",
       "  </tbody>\n",
       "</table>\n",
       "</div>"
      ],
      "text/plain": [
       "      sex  survival_rate\n",
       "0  female       0.742038\n",
       "1    male       0.188908"
      ]
     },
     "execution_count": 96,
     "metadata": {},
     "output_type": "execute_result"
    }
   ],
   "source": [
    "survival_gender = titanic_df.groupby('sex')['survived'].mean().reset_index(name='survival_rate')\n",
    "survival_gender"
   ]
  },
  {
   "cell_type": "code",
   "execution_count": 97,
   "id": "bc915c5b-eccc-4f1d-b79f-f4bacb758168",
   "metadata": {},
   "outputs": [
    {
     "data": {
      "application/vnd.plotly.v1+json": {
       "config": {
        "plotlyServerURL": "https://plot.ly"
       },
       "data": [
        {
         "hovertemplate": "sex=%{x}<br>survival_rate=%{text}<extra></extra>",
         "legendgroup": "female",
         "marker": {
          "color": "darkcyan",
          "pattern": {
           "shape": ""
          }
         },
         "name": "female",
         "orientation": "v",
         "showlegend": true,
         "text": {
          "_inputArray": {
           "0": 0.7420382165605095,
           "bdata": "RE4Q7sa+5z8=",
           "dtype": "f8",
           "shape": "1"
          },
          "bdata": "RE4Q7sa+5z8=",
          "dtype": "f8"
         },
         "textposition": "inside",
         "texttemplate": "%{text:.2f}",
         "type": "bar",
         "x": [
          "female"
         ],
         "xaxis": "x",
         "y": {
          "_inputArray": {
           "0": 0.7420382165605095,
           "bdata": "RE4Q7sa+5z8=",
           "dtype": "f8",
           "shape": "1"
          },
          "bdata": "RE4Q7sa+5z8=",
          "dtype": "f8"
         },
         "yaxis": "y"
        },
        {
         "hovertemplate": "sex=%{x}<br>survival_rate=%{text}<extra></extra>",
         "legendgroup": "male",
         "marker": {
          "color": "skyblue",
          "pattern": {
           "shape": ""
          }
         },
         "name": "male",
         "orientation": "v",
         "showlegend": true,
         "text": {
          "_inputArray": {
           "0": 0.18890814558058924,
           "bdata": "ybqbYSQuyD8=",
           "dtype": "f8",
           "shape": "1"
          },
          "bdata": "ybqbYSQuyD8=",
          "dtype": "f8"
         },
         "textposition": "inside",
         "texttemplate": "%{text:.2f}",
         "type": "bar",
         "x": [
          "male"
         ],
         "xaxis": "x",
         "y": {
          "_inputArray": {
           "0": 0.18890814558058924,
           "bdata": "ybqbYSQuyD8=",
           "dtype": "f8",
           "shape": "1"
          },
          "bdata": "ybqbYSQuyD8=",
          "dtype": "f8"
         },
         "yaxis": "y"
        }
       ],
       "layout": {
        "bargap": 0.4,
        "barmode": "relative",
        "height": 500,
        "legend": {
         "title": {
          "text": "sex"
         },
         "tracegroupgap": 0
        },
        "paper_bgcolor": "rgba(0, 0, 0, 0)",
        "plot_bgcolor": "rgba(0, 0, 0, 0)",
        "template": {
         "data": {
          "pie": [
           {
            "automargin": true,
            "type": "pie"
           }
          ],
          "scatter": [
           {
            "line": {
             "width": 3
            },
            "marker": {
             "size": 9
            },
            "type": "scatter"
           }
          ],
          "scatter3d": [
           {
            "line": {
             "width": 3
            },
            "marker": {
             "size": 9
            },
            "type": "scatter3d"
           }
          ],
          "scattergeo": [
           {
            "line": {
             "width": 3
            },
            "marker": {
             "size": 9
            },
            "type": "scattergeo"
           }
          ],
          "scattergl": [
           {
            "line": {
             "width": 3
            },
            "marker": {
             "size": 9
            },
            "type": "scattergl"
           }
          ],
          "scatterpolar": [
           {
            "line": {
             "width": 3
            },
            "marker": {
             "size": 9
            },
            "type": "scatterpolar"
           }
          ],
          "scatterpolargl": [
           {
            "line": {
             "width": 3
            },
            "marker": {
             "size": 9
            },
            "type": "scatterpolargl"
           }
          ],
          "scatterternary": [
           {
            "line": {
             "width": 3
            },
            "marker": {
             "size": 9
            },
            "type": "scatterternary"
           }
          ],
          "table": [
           {
            "cells": {
             "height": 30
            },
            "header": {
             "height": 36
            },
            "type": "table"
           }
          ]
         },
         "layout": {
          "font": {
           "size": 18
          },
          "xaxis": {
           "title": {
            "standoff": 15
           }
          },
          "yaxis": {
           "title": {
            "standoff": 15
           }
          }
         }
        },
        "title": {
         "text": "Survival Rate by Gender"
        },
        "width": 1000,
        "xaxis": {
         "anchor": "y",
         "autorange": true,
         "categoryarray": [
          "female",
          "male"
         ],
         "categoryorder": "array",
         "domain": [
          0,
          1
         ],
         "range": [
          -0.5,
          1.5
         ],
         "title": {
          "text": "sex"
         },
         "type": "category"
        },
        "yaxis": {
         "anchor": "x",
         "autorange": true,
         "domain": [
          0,
          1
         ],
         "range": [
          0,
          0.7810928595373784
         ],
         "title": {
          "text": "Survival Rate (%)"
         },
         "type": "linear"
        }
       }
      },
      "image/png": "[encoded data removed]"
     },
     "metadata": {},
     "output_type": "display_data"
    }
   ],
   "source": [
    "fig = px.bar(\n",
    "    survival_gender, \n",
    "    x='sex', \n",
    "    y='survival_rate', \n",
    "    title='Survival Rate by Gender', \n",
    "    color='sex', \n",
    "    text='survival_rate', \n",
    "    color_discrete_sequence=['darkcyan', 'skyblue']\n",
    ")\n",
    "\n",
    "fig.update_traces(texttemplate='%{text:.2f}', textposition='inside')\n",
    "\n",
    "fig.update_layout(\n",
    "    template=\"presentation\",\n",
    "    paper_bgcolor=\"rgba(0,0,0,0)\",\n",
    "    plot_bgcolor=\"rgba(0,0,0,0)\",\n",
    "     bargap=0.4,\n",
    "     width=1000,      \n",
    "    height=500, \n",
    "    yaxis_title=\"Survival Rate (%)\"\n",
    ")\n",
    "\n",
    "fig.show()\n",
    "\n",
    "fig.write_image(os.path.join(results_dir, 'survival_gender_bar_chart.jpg'))\n",
    "fig.write_image(os.path.join(results_dir, 'survival_gender_bar_chart.png'))\n",
    "fig.write_html(os.path.join(results_dir, 'survival_gender_bar_chart.html'))\n"
   ]
  },
  {
   "cell_type": "markdown",
   "id": "12d621f5-f90c-43d1-b4f7-10518c0a0e6b",
   "metadata": {},
   "source": [
    "# 4. Survival by Class"
   ]
  },
  {
   "cell_type": "code",
   "execution_count": 98,
   "id": "69085c1c-f24b-4597-817f-31277794b0e4",
   "metadata": {},
   "outputs": [],
   "source": [
    "titanic_df['pclass'] = titanic_df['pclass'].astype(str)\n",
    "titanic_df['survived'] = titanic_df['survived'].astype(str)"
   ]
  },
  {
   "cell_type": "code",
   "execution_count": 99,
   "id": "8f5d0f72-7b99-4646-a91d-df5cac8c6207",
   "metadata": {},
   "outputs": [
    {
     "data": {
      "image/png": "[encoded data removed]",
      "text/plain": [
       "<Figure size 800x500 with 1 Axes>"
      ]
     },
     "metadata": {},
     "output_type": "display_data"
    }
   ],
   "source": [
    "fig, ax = plt.subplots(figsize=(8,5))\n",
    "\n",
    "sns.countplot(\n",
    "    x='pclass', \n",
    "    hue='survived', \n",
    "    data=titanic_df, \n",
    "    palette=['darkcyan', 'skyblue'],  # custom colors\n",
    "    ax=ax\n",
    ")\n",
    "\n",
    "# Titles and labels\n",
    "ax.set_title('Survival by Passenger Class', fontsize=14)\n",
    "ax.set_xlabel('Passenger Class', fontsize=12)\n",
    "ax.set_ylabel('Count', fontsize=12)\n",
    "\n",
    "# Add count labels on bars\n",
    "for container in ax.containers:\n",
    "    ax.bar_label(container, fmt='%d', label_type='edge', fontsize=10, color='black', padding=3)\n",
    "\n",
    "\n",
    "fig.tight_layout()\n",
    "\n",
    "plt.savefig(r\"C:\\Users\\Tasha\\Desktop\\TITANIC_ML\\results\\survival_by_pclass.png\", dpi=300, bbox_inches='tight')\n",
    "\n",
    "plt.show()"
   ]
  },
  {
   "cell_type": "markdown",
   "id": "c06b2c9f-592a-4dd2-8e33-a7c5c5109d54",
   "metadata": {},
   "source": [
    "# Heatmap Correlation Analysis\n",
    "\n",
    "The correlation matrix shows the relationships between numeric variables in the Titanic dataset. Correlation values range from **-1** (perfect negative correlation) to **1** (perfect positive correlation), with **0** indicating no correlation.\n",
    "\n",
    "| Variable 1 | Variable 2 | Correlation | Interpretation |\n",
    "|------------|------------|------------|----------------|\n",
    "| survived   | pclass     | -0.338     | Moderate negative correlation → passengers in higher classes were more likely to survive. |\n",
    "| survived   | age        | -0.065     | Very weak negative correlation → age had almost no effect on survival. |\n",
    "| survived   | sibsp      | -0.035     | Very weak negative correlation → number of siblings/spouses onboard had minimal effect on survival. |\n",
    "| survived   | parch      | 0.082      | Very weak positive correlation → number of parents/children onboard had minimal effect on survival. |\n",
    "| survived   | fare       | 0.257      | Weak positive correlation → passengers paying higher fares were slightly more likely to survive. |\n",
    "| pclass     | age        | -0.340     | Weak negative correlation → lower-class passengers were slightly younger. |\n",
    "| pclass     | sibsp      | 0.083      | Very weak positive correlation → class had almost no effect on siblings/spouses onboard. |\n",
    "| pclass     | parch      | 0.018      | Almost no correlation → class did not affect parents/children onboard. |\n",
    "| pclass     | fare       | -0.550     | Strong negative correlation → higher-class tickets had higher fares. |\n",
    "| age        | sibsp      | -0.233     | Weak negative correlation → younger passengers slightly had fewer siblings/spouses onboard. |\n",
    "| age        | parch      | -0.172     | Weak negative correlation → younger passengers slightly had fewer parents/children onboard. |\n",
    "| age        | fare       | 0.097      | Very weak positive correlation → age barely affected fare paid. |\n",
    "| sibsp      | parch      | 0.415      | Moderate positive correlation → passengers with siblings often had parents/children onboard too. |\n",
    "| sibsp      | fare       | 0.160      | Weak positive correlation → slightly higher fare with more siblings/spouses onboard. |\n",
    "| parch      | fare       | 0.216      | Weak positive correlation → slightly higher fare with more parents/children onboard. |\n",
    "\n",
    "## Key Insights\n",
    "\n",
    "- **Class and Survival:** Passengers in higher classes had a higher chance of survival.  \n",
    "- **Fare and Survival:** Paying more for a ticket slightly increased survival probability.  \n",
    "- **Family Size:** `sibsp` and `parch` correlate moderately, but individually they had minimal effect on survival.  \n",
    "- **Age:** Almost no effect on survival.  \n",
    "- **Ticket Price vs Class:** Fare strongly correlates with class — higher class tickets cost more."
   ]
  },
  {
   "cell_type": "code",
   "execution_count": 101,
   "id": "cda0a7f8-0dd6-404d-a633-e432b7935ea7",
   "metadata": {},
   "outputs": [
    {
     "data": {
      "image/png": "[encoded data removed]",
      "text/plain": [
       "<Figure size 800x600 with 2 Axes>"
      ]
     },
     "metadata": {},
     "output_type": "display_data"
    }
   ],
   "source": [
    "numeric_cols = ['survived', 'pclass', 'age', 'sibsp', 'parch', 'fare']\n",
    "correlation = titanic_df[numeric_cols].corr()\n",
    "\n",
    "plt.figure(figsize=(8,6))\n",
    "plt.imshow(correlation, cmap='coolwarm', interpolation='nearest')\n",
    "plt.colorbar()\n",
    "\n",
    "plt.xticks(range(len(numeric_cols)), numeric_cols, rotation=45)\n",
    "plt.yticks(range(len(numeric_cols)), numeric_cols)\n",
    "\n",
    "for i in range(len(numeric_cols)):\n",
    "    for j in range(len(numeric_cols)):\n",
    "        plt.text(j, i, f\"{correlation.iloc[i, j]:.2f}\",\n",
    "                 ha='center', va='center', color='black')\n",
    "\n",
    "plt.title(\"Titanic Correlation Matrix\")\n",
    "plt.tight_layout()\n",
    "plt.savefig(r\"C:\\Users\\Tasha\\Desktop\\TITANIC_ML\\results\\correlation_matrix.png\", dpi=300, bbox_inches='tight')\n",
    "plt.show()\n"
   ]
  },
  {
   "cell_type": "code",
   "execution_count": null,
   "id": "c9a8890c-b483-4aae-99c0-bb4ec4032043",
   "metadata": {},
   "outputs": [],
   "source": []
  }
 ],
 "metadata": {
  "kernelspec": {
   "display_name": "Python 3 (ipykernel)",
   "language": "python",
   "name": "python3"
  },
  "language_info": {
   "codemirror_mode": {
    "name": "ipython",
    "version": 3
   },
   "file_extension": ".py",
   "mimetype": "text/x-python",
   "name": "python",
   "nbconvert_exporter": "python",
   "pygments_lexer": "ipython3",
   "version": "3.11.7"
  },
  "widgets": {
   "application/vnd.jupyter.widget-state+json": {
    "state": {},
    "version_major": 2,
    "version_minor": 0
   }
  }
 },
 "nbformat": 4,
 "nbformat_minor": 5
}
